{
 "cells": [
  {
   "cell_type": "markdown",
   "id": "7e8f0b0d-c767-4b89-ae01-fc663e7bc275",
   "metadata": {},
   "source": [
    "**Q1. What is a database? Differentiate between SQL and NoSQL databases.**"
   ]
  },
  {
   "cell_type": "markdown",
   "id": "c68ba82f-3900-4231-b372-b4681f0e4b72",
   "metadata": {},
   "source": [
    "A database is a structured collection of data that is organized and stored in a way that allows efficient retrieval, management, and manipulation of the data. \n",
    "\n",
    "Difference between SQL and NoSQL:\n",
    "\n",
    "1. SQL (Structured Query Language) databases are based on the relational model, which organizes data into tables with predefined schemas whereas NoSQL (Not only SQL) databases use various data models that are non-relational, providing flexibility and scalability.\n",
    "\n",
    "2. We use SQL as the standard language for managing and manipulating data. while NoSQL are designed to handle large volumes of unstructured, semi-structured, or rapidly changing data."
   ]
  },
  {
   "cell_type": "code",
   "execution_count": null,
   "id": "731d58f2-3992-4517-968e-5a9ccfef07ab",
   "metadata": {},
   "outputs": [],
   "source": []
  },
  {
   "cell_type": "markdown",
   "id": "b295fdc7-b0b6-4c9c-97a2-048d484f9a55",
   "metadata": {},
   "source": [
    "**Q2. What is DDL? Explain why CREATE, DROP, ALTER, and TRUNCATE are used with an example.**"
   ]
  },
  {
   "cell_type": "markdown",
   "id": "f491cb24-9f2a-42f8-8966-7597062654b4",
   "metadata": {},
   "source": [
    "DDL stands for Data Definition Language. It is a subset of SQL that is used to define and manage the structure of a database and its objects, such as tables, indexes, constraints, and views. These statements are responsible for creating, altering, and dropping database objects."
   ]
  },
  {
   "cell_type": "markdown",
   "id": "6854c96b-4547-44bc-b3a1-da603c8d3237",
   "metadata": {},
   "source": [
    "**1.CREATE**\n",
    "\n",
    "The CREATE statement is used to create new database objects, such as tables, indexes, or views.\n",
    "\n",
    "\n",
    "**Example:**\n",
    "\n",
    "CREATE TABLE Employees (\n",
    "  ID INT,\n",
    "  Name VARCHAR(50),\n",
    "  Age INT,\n",
    "  Salary DECIMAL(10,2)\n",
    ");"
   ]
  },
  {
   "cell_type": "markdown",
   "id": "6d4d19e6-f1d4-4c68-80b8-ec4e36ec5ec3",
   "metadata": {},
   "source": [
    "**2. DROP**\n",
    "The DROP statement is used to remove or delete existing database objects.\n",
    "\n",
    "DRPO TABLE Employee;\n"
   ]
  },
  {
   "cell_type": "markdown",
   "id": "9df04821-47c5-4b63-ba52-e5b152b5d6e3",
   "metadata": {},
   "source": [
    "**3.ALTER**:\n",
    "\n",
    "The ALTER statement is used to modify the structure of an existing database object, such as adding or dropping columns, modifying constraints, or renaming objects.\n",
    "\n",
    "**Example**:\n",
    "\n",
    "ALTER TABLE Employee\n",
    "ADD COLUMN Department VARCHAR(250);"
   ]
  },
  {
   "cell_type": "markdown",
   "id": "9616017d-262c-4a1c-b01f-300b5b98097c",
   "metadata": {},
   "source": [
    "**4. TRUNCATE**:\n",
    "\n",
    "The TRUNCATE statement is used to remove all data from a table, but keeps the table structure intact.\n",
    "\n",
    "**Example**:\n",
    "\n",
    "TRUNCATE TABLE Employees;"
   ]
  },
  {
   "cell_type": "code",
   "execution_count": null,
   "id": "11c558d4-1bca-4ad1-b226-1686ae60b709",
   "metadata": {},
   "outputs": [],
   "source": []
  },
  {
   "cell_type": "markdown",
   "id": "ccefc3a5-22c2-42ca-9781-330c811a41b5",
   "metadata": {},
   "source": [
    "**Q3. What is DML? Explain INSERT, UPDATE, and DELETE with an example.**"
   ]
  },
  {
   "cell_type": "markdown",
   "id": "c8e21d74-116f-431e-bdf6-dd29ecb8eae4",
   "metadata": {},
   "source": [
    "DML stands for Data Manipulation Language. It is a subset of SQL (Structured Query Language) used to manipulate and modify data within a database."
   ]
  },
  {
   "cell_type": "markdown",
   "id": "3aa7c158-82f3-47f4-8e25-5727951aab1d",
   "metadata": {},
   "source": [
    "**1. INSERT**:\n",
    "\n",
    "The INSERT statement is used to add new rows of data into a table.\n",
    "\n",
    "**Example**:\n",
    "\n",
    "INSERT INTO Employees (ID, Name, Age, Salary) \n",
    "VALUES (1, 'Sam dung', 30, 45000);"
   ]
  },
  {
   "cell_type": "markdown",
   "id": "8bb64b5c-2139-46c9-82ef-7c1c384c6c27",
   "metadata": {},
   "source": [
    "**2. UPDATE**:\n",
    "The UPDATE statement is used to modify existing data within a table.\n",
    "\n",
    "**Example**:\n",
    "\n",
    "UPDATE Employees\n",
    "SET Salary = 55000\n",
    "WHERE ID = 1;"
   ]
  },
  {
   "cell_type": "markdown",
   "id": "f8be9215-480d-478b-a4e8-32c9aa09c287",
   "metadata": {},
   "source": [
    "**3. DELETE**:\n",
    "\n",
    "The DELETE statement is used to remove one or more rows from a table.\n",
    "\n",
    "**Example**:\n",
    "\n",
    "DELETE FROM Employees\n",
    "WHERE ID = 1;"
   ]
  },
  {
   "cell_type": "markdown",
   "id": "04345855-bb13-49d9-b815-1eebc4b0f397",
   "metadata": {},
   "source": [
    "**Q4. What is DQL? Explain SELECT with an example.**"
   ]
  },
  {
   "cell_type": "markdown",
   "id": "2bb4fd5c-28c1-48ac-b5cb-e04449cebf8f",
   "metadata": {},
   "source": [
    "DQL stands for Data Query Language, and it is a sub-language of Structured Query Language (SQL) that is used to retrieve data from a database. "
   ]
  },
  {
   "cell_type": "markdown",
   "id": "95b9eae3-ef59-4807-b9d4-2f24f4dd53ba",
   "metadata": {},
   "source": [
    "**SELECT**:\n",
    "\n",
    "The SELECT statement allows you to specify the columns you want to retrieve and define conditions for filtering the data.\n",
    "\n",
    "**Example**:\n",
    "\n",
    "SELECT ID, Name, Age,Salary, Department\n",
    "FROM Employees\n",
    "WHERE Salary > 50000;"
   ]
  },
  {
   "cell_type": "code",
   "execution_count": null,
   "id": "dd95570d-f86d-404b-b160-1db785f478a8",
   "metadata": {},
   "outputs": [],
   "source": []
  },
  {
   "cell_type": "markdown",
   "id": "fd714f14-b816-4d41-8249-2d2f265b0680",
   "metadata": {},
   "source": [
    "**Q5. Explain Primary Key and Foreign Key.**"
   ]
  },
  {
   "cell_type": "markdown",
   "id": "da233a60-e2b0-43df-873f-f153656daa18",
   "metadata": {},
   "source": [
    "**Primary Key**:\n",
    "    \n",
    "A primary key is a column or a set of columns in a database table that uniquely identifies each record (row) in the table. \n",
    "\n",
    "**Foreign Key**:\n",
    "\n",
    "A foreign key is a column or a set of columns in a database table that establishes a link or relationship between two tables. "
   ]
  },
  {
   "cell_type": "code",
   "execution_count": null,
   "id": "3a1f665f-9702-43ab-a12e-ca6cb71b22ab",
   "metadata": {},
   "outputs": [],
   "source": []
  },
  {
   "cell_type": "markdown",
   "id": "c776cf40-9356-4813-984e-708ecc65272b",
   "metadata": {},
   "source": [
    "**Q6. Write a python code to connect MySQL to python. Explain the cursor() and execute() method.**"
   ]
  },
  {
   "cell_type": "code",
   "execution_count": null,
   "id": "f23521a0-76d8-40c8-af1e-b41a57d65df9",
   "metadata": {},
   "outputs": [],
   "source": [
    "###Python code to connect MySQL to python\n",
    "import mysql.connector\n",
    "# import mysql.connector\n",
    "#create user 'user'@'%' identified by 'password'\n",
    "mydb = mysql.connector.connect(\n",
    "  host=\"localhost\",\n",
    "  user=\"abc\",\n",
    "  password=\"password\"\n",
    ")\n",
    "print(mydb)\n",
    "mycursor = mydb.cursor()\n",
    "mycursor.execute(\"SHOW DATABASES\")\n",
    "for x in mycursor:\n",
    "  print(x)"
   ]
  },
  {
   "cell_type": "markdown",
   "id": "a166b294-d713-40e2-bc57-444d78b396df",
   "metadata": {},
   "source": [
    "**cursor()**: \n",
    "\n",
    "This method creates a cursor object, which allows you to execute SQL queries and retrieve results.\n",
    "\n",
    "\n",
    "**execute()**:\n",
    "\n",
    "This method is used to execute an SQL query. You pass the query as a parameter to this method. "
   ]
  },
  {
   "cell_type": "markdown",
   "id": "66e960b2-01e8-4901-ab9c-931f22c9e274",
   "metadata": {},
   "source": [
    "**Q7. Give the order of execution of SQL clauses in an SQL query.**"
   ]
  },
  {
   "cell_type": "markdown",
   "id": "5647457b-0e60-473b-a1f2-1ed6f5727a86",
   "metadata": {},
   "source": [
    "The order of execution of SQL clauses in an SQL query:\n",
    "\n",
    "1. SELECT\n",
    "2. FROM\n",
    "3. JOIN\n",
    "4. WHERE\n",
    "5. GROUP BY\n",
    "6. HAVING \n",
    "7. DISTINCT\n",
    "8. ORDER BY\n",
    "9. LIMIT"
   ]
  },
  {
   "cell_type": "code",
   "execution_count": null,
   "id": "3a0e0cbe-7e9a-4ccb-b95b-93e5d55e0b4a",
   "metadata": {},
   "outputs": [],
   "source": []
  }
 ],
 "metadata": {
  "kernelspec": {
   "display_name": "Python 3 (ipykernel)",
   "language": "python",
   "name": "python3"
  },
  "language_info": {
   "codemirror_mode": {
    "name": "ipython",
    "version": 3
   },
   "file_extension": ".py",
   "mimetype": "text/x-python",
   "name": "python",
   "nbconvert_exporter": "python",
   "pygments_lexer": "ipython3",
   "version": "3.10.8"
  }
 },
 "nbformat": 4,
 "nbformat_minor": 5
}
